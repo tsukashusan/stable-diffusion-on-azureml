{
 "cells": [
  {
   "cell_type": "code",
   "execution_count": null,
   "metadata": {},
   "outputs": [],
   "source": [
    "%%capture\n",
    "!(pip uninstall --no-input swagger-client && pip install --no-cache-dir ./stable-diffusion-api/clients/python)"
   ]
  },
  {
   "cell_type": "code",
   "execution_count": null,
   "metadata": {},
   "outputs": [],
   "source": [
    "%%capture\n",
    "!(pip install Pillow==10.3.0)"
   ]
  },
  {
   "cell_type": "code",
   "execution_count": null,
   "metadata": {},
   "outputs": [],
   "source": [
    "import json\n",
    "\n",
    "with open('online-endpoint.json') as f:\n",
    "    endpoint_details = json.loads(f.read())"
   ]
  },
  {
   "cell_type": "code",
   "execution_count": null,
   "metadata": {},
   "outputs": [],
   "source": [
    "import swagger_client\n",
    "from swagger_client.rest import ApiException\n",
    "from swagger_client.api.default_api import DefaultApi\n",
    "from pprint import pprint\n",
    "\n",
    "config = swagger_client.Configuration()\n",
    "config.host = endpoint_details['host']\n",
    "\n",
    "api_client = swagger_client.ApiClient(configuration=config)\n",
    "api_client.default_headers = {\"Authorization\": \"Bearer \"+ endpoint_details['key'], 'Content-Type':'application/json'}\n",
    "api = DefaultApi(api_client)\n",
    "pprint(api.api_client.configuration.host)\n"
   ]
  },
  {
   "cell_type": "code",
   "execution_count": null,
   "metadata": {},
   "outputs": [],
   "source": [
    "inp = swagger_client.Txt2ImgInput(\n",
    "    # prompt='A corgi wearing a top hat, suit and monocle, oil painting',\n",
    "    prompt='Fighting in outer space, Robot Squadron, 8k, high definition', n_samples=2,\n",
    "    seed=123,\n",
    ")\n",
    "output = api.txt2img(inp)\n"
   ]
  },
  {
   "cell_type": "code",
   "execution_count": null,
   "metadata": {},
   "outputs": [],
   "source": [
    "from base64 import b64decode\n",
    "from io import BytesIO\n",
    "from PIL import Image\n",
    "from IPython.display import display\n",
    "\n",
    "for iteration in output.iterations:\n",
    "    for sample in iteration:\n",
    "        img = Image.open(BytesIO(b64decode(sample['image']['base64'])))\n",
    "        display(img)"
   ]
  }
 ],
 "metadata": {
  "kernelspec": {
   "display_name": "Python 3 (ipykernel)",
   "language": "python",
   "name": "python3"
  },
  "language_info": {
   "codemirror_mode": {
    "name": "ipython",
    "version": 3
   },
   "file_extension": ".py",
   "mimetype": "text/x-python",
   "name": "python",
   "nbconvert_exporter": "python",
   "pygments_lexer": "ipython3",
   "version": "3.12.2"
  },
  "vscode": {
   "interpreter": {
    "hash": "70b04cbafd6d99584091e90c424384fa54d35d16b48d4ba824a701eb2c9fbc07"
   }
  }
 },
 "nbformat": 4,
 "nbformat_minor": 2
}
